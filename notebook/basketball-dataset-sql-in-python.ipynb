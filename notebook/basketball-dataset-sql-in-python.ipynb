{
 "cells": [
  {
   "cell_type": "markdown",
   "metadata": {
    "pycharm": {
     "name": "#%% md\n"
    }
   },
   "source": [
    "<h1 align='center'> SQL in Python </h1>"
   ]
  },
  {
   "cell_type": "markdown",
   "metadata": {
    "pycharm": {
     "name": "#%% md\n"
    }
   },
   "source": [
    "### Using the `SQLite3` Package & Pandas"
   ]
  },
  {
   "cell_type": "code",
   "execution_count": 14,
   "metadata": {
    "execution": {
     "iopub.execute_input": "2022-07-23T17:19:22.102886Z",
     "iopub.status.busy": "2022-07-23T17:19:22.102466Z",
     "iopub.status.idle": "2022-07-23T17:19:22.109063Z",
     "shell.execute_reply": "2022-07-23T17:19:22.107944Z",
     "shell.execute_reply.started": "2022-07-23T17:19:22.102843Z"
    },
    "pycharm": {
     "name": "#%%\n"
    }
   },
   "outputs": [],
   "source": [
    "import sqlite3 as sql\n",
    "import pandas as pd\n",
    "from sklearn.model_selection import train_test_split\n",
    "from sklearn.neighbors import KNeighborsRegressor\n",
    "from sklearn.preprocessing import MinMaxScaler\n",
    "from sklearn.tree import DecisionTreeRegressor\n",
    "from sklearn.neural_network import MLPRegressor\n",
    "import pickle\n",
    "import matplotlib.pyplot as plt\n",
    "import joblib"
   ]
  },
  {
   "cell_type": "code",
   "execution_count": 15,
   "metadata": {
    "execution": {
     "iopub.execute_input": "2022-07-23T17:40:45.863151Z",
     "iopub.status.busy": "2022-07-23T17:40:45.862519Z",
     "iopub.status.idle": "2022-07-23T17:40:45.868100Z",
     "shell.execute_reply": "2022-07-23T17:40:45.867114Z",
     "shell.execute_reply.started": "2022-07-23T17:40:45.863106Z"
    },
    "pycharm": {
     "name": "#%%\n"
    }
   },
   "outputs": [],
   "source": [
    "knn = KNeighborsRegressor(n_neighbors=15)\n",
    "mm = MinMaxScaler()\n",
    "dt = DecisionTreeRegressor()\n",
    "mlp = MLPRegressor(hidden_layer_sizes=(100,100,100,25),max_iter=1000)"
   ]
  },
  {
   "cell_type": "code",
   "execution_count": 16,
   "metadata": {
    "execution": {
     "iopub.execute_input": "2022-07-23T17:19:22.123069Z",
     "iopub.status.busy": "2022-07-23T17:19:22.122530Z",
     "iopub.status.idle": "2022-07-23T17:19:22.147491Z",
     "shell.execute_reply": "2022-07-23T17:19:22.146434Z",
     "shell.execute_reply.started": "2022-07-23T17:19:22.123027Z"
    },
    "pycharm": {
     "name": "#%%\n"
    }
   },
   "outputs": [
    {
     "data": {
      "text/plain": "<sqlite3.Connection at 0x2e8befc5a40>"
     },
     "execution_count": 16,
     "metadata": {},
     "output_type": "execute_result"
    }
   ],
   "source": [
    "conn = sql.connect('./data/basketball.sqlite') # create connection object to database\n",
    "conn"
   ]
  },
  {
   "cell_type": "code",
   "execution_count": 17,
   "metadata": {
    "execution": {
     "iopub.execute_input": "2022-07-23T17:19:22.150183Z",
     "iopub.status.busy": "2022-07-23T17:19:22.149683Z",
     "iopub.status.idle": "2022-07-23T17:19:31.907900Z",
     "shell.execute_reply": "2022-07-23T17:19:31.907053Z",
     "shell.execute_reply.started": "2022-07-23T17:19:22.150150Z"
    },
    "pycharm": {
     "name": "#%%\n"
    }
   },
   "outputs": [
    {
     "data": {
      "text/plain": "      GAME_ID SEASON_ID TEAM_ID_HOME TEAM_ABBREVIATION_HOME  \\\n0  0024600001     21946   1610610035                    HUS   \n1  0024600003     21946   1610610034                    BOM   \n2  0024600004     21946   1610610025                    CHS   \n3  0024600002     21946   1610610032                    PRO   \n4  0024600005     21946   1610610028                    DEF   \n\n            TEAM_NAME_HOME   GAME_DATE MATCHUP_HOME WL_HOME  MIN_HOME  \\\n0          Toronto Huskies  1946-11-01  HUS vs. NYK       L         0   \n1        St. Louis Bombers  1946-11-02  BOM vs. PIT       W         0   \n2            Chicago Stags  1946-11-02  CHS vs. NYK       W         0   \n3  Providence Steamrollers  1946-11-02  PRO vs. BOS       W         0   \n4          Detroit Falcons  1946-11-02  DEF vs. WAS       L         0   \n\n   FGM_HOME  ...  LAST_GAME_VISITOR_TEAM_CITY1  LAST_GAME_VISITOR_TEAM_POINTS  \\\n0      25.0  ...                          None                           None   \n1      20.0  ...                          None                           None   \n2      21.0  ...                          None                           None   \n3      21.0  ...                          None                           None   \n4      10.0  ...                          None                           None   \n\n   HOME_TEAM_WINS  HOME_TEAM_LOSSES  SERIES_LEADER  VIDEO_AVAILABLE_FLAG  \\\n0             3.0               3.0           Tied                   0.0   \n1             5.0               1.0      St. Louis                   0.0   \n2             3.0               3.0           Tied                   0.0   \n3             5.0               1.0     Providence                   0.0   \n4             1.0               5.0     Washington                   0.0   \n\n   PT_AVAILABLE  PT_XYZ_AVAILABLE  HUSTLE_STATUS  HISTORICAL_STATUS  \n0           0.0               0.0            0.0                1.0  \n1           0.0               0.0            0.0                1.0  \n2           0.0               0.0            0.0                1.0  \n3           0.0               0.0            0.0                1.0  \n4           0.0               0.0            0.0                1.0  \n\n[5 rows x 149 columns]",
      "text/html": "<div>\n<style scoped>\n    .dataframe tbody tr th:only-of-type {\n        vertical-align: middle;\n    }\n\n    .dataframe tbody tr th {\n        vertical-align: top;\n    }\n\n    .dataframe thead th {\n        text-align: right;\n    }\n</style>\n<table border=\"1\" class=\"dataframe\">\n  <thead>\n    <tr style=\"text-align: right;\">\n      <th></th>\n      <th>GAME_ID</th>\n      <th>SEASON_ID</th>\n      <th>TEAM_ID_HOME</th>\n      <th>TEAM_ABBREVIATION_HOME</th>\n      <th>TEAM_NAME_HOME</th>\n      <th>GAME_DATE</th>\n      <th>MATCHUP_HOME</th>\n      <th>WL_HOME</th>\n      <th>MIN_HOME</th>\n      <th>FGM_HOME</th>\n      <th>...</th>\n      <th>LAST_GAME_VISITOR_TEAM_CITY1</th>\n      <th>LAST_GAME_VISITOR_TEAM_POINTS</th>\n      <th>HOME_TEAM_WINS</th>\n      <th>HOME_TEAM_LOSSES</th>\n      <th>SERIES_LEADER</th>\n      <th>VIDEO_AVAILABLE_FLAG</th>\n      <th>PT_AVAILABLE</th>\n      <th>PT_XYZ_AVAILABLE</th>\n      <th>HUSTLE_STATUS</th>\n      <th>HISTORICAL_STATUS</th>\n    </tr>\n  </thead>\n  <tbody>\n    <tr>\n      <th>0</th>\n      <td>0024600001</td>\n      <td>21946</td>\n      <td>1610610035</td>\n      <td>HUS</td>\n      <td>Toronto Huskies</td>\n      <td>1946-11-01</td>\n      <td>HUS vs. NYK</td>\n      <td>L</td>\n      <td>0</td>\n      <td>25.0</td>\n      <td>...</td>\n      <td>None</td>\n      <td>None</td>\n      <td>3.0</td>\n      <td>3.0</td>\n      <td>Tied</td>\n      <td>0.0</td>\n      <td>0.0</td>\n      <td>0.0</td>\n      <td>0.0</td>\n      <td>1.0</td>\n    </tr>\n    <tr>\n      <th>1</th>\n      <td>0024600003</td>\n      <td>21946</td>\n      <td>1610610034</td>\n      <td>BOM</td>\n      <td>St. Louis Bombers</td>\n      <td>1946-11-02</td>\n      <td>BOM vs. PIT</td>\n      <td>W</td>\n      <td>0</td>\n      <td>20.0</td>\n      <td>...</td>\n      <td>None</td>\n      <td>None</td>\n      <td>5.0</td>\n      <td>1.0</td>\n      <td>St. Louis</td>\n      <td>0.0</td>\n      <td>0.0</td>\n      <td>0.0</td>\n      <td>0.0</td>\n      <td>1.0</td>\n    </tr>\n    <tr>\n      <th>2</th>\n      <td>0024600004</td>\n      <td>21946</td>\n      <td>1610610025</td>\n      <td>CHS</td>\n      <td>Chicago Stags</td>\n      <td>1946-11-02</td>\n      <td>CHS vs. NYK</td>\n      <td>W</td>\n      <td>0</td>\n      <td>21.0</td>\n      <td>...</td>\n      <td>None</td>\n      <td>None</td>\n      <td>3.0</td>\n      <td>3.0</td>\n      <td>Tied</td>\n      <td>0.0</td>\n      <td>0.0</td>\n      <td>0.0</td>\n      <td>0.0</td>\n      <td>1.0</td>\n    </tr>\n    <tr>\n      <th>3</th>\n      <td>0024600002</td>\n      <td>21946</td>\n      <td>1610610032</td>\n      <td>PRO</td>\n      <td>Providence Steamrollers</td>\n      <td>1946-11-02</td>\n      <td>PRO vs. BOS</td>\n      <td>W</td>\n      <td>0</td>\n      <td>21.0</td>\n      <td>...</td>\n      <td>None</td>\n      <td>None</td>\n      <td>5.0</td>\n      <td>1.0</td>\n      <td>Providence</td>\n      <td>0.0</td>\n      <td>0.0</td>\n      <td>0.0</td>\n      <td>0.0</td>\n      <td>1.0</td>\n    </tr>\n    <tr>\n      <th>4</th>\n      <td>0024600005</td>\n      <td>21946</td>\n      <td>1610610028</td>\n      <td>DEF</td>\n      <td>Detroit Falcons</td>\n      <td>1946-11-02</td>\n      <td>DEF vs. WAS</td>\n      <td>L</td>\n      <td>0</td>\n      <td>10.0</td>\n      <td>...</td>\n      <td>None</td>\n      <td>None</td>\n      <td>1.0</td>\n      <td>5.0</td>\n      <td>Washington</td>\n      <td>0.0</td>\n      <td>0.0</td>\n      <td>0.0</td>\n      <td>0.0</td>\n      <td>1.0</td>\n    </tr>\n  </tbody>\n</table>\n<p>5 rows × 149 columns</p>\n</div>"
     },
     "execution_count": 17,
     "metadata": {},
     "output_type": "execute_result"
    }
   ],
   "source": [
    "df_games = pd.read_sql('select * from Game', conn) # use connection object and a arbitrary SQL argument with Pandas\n",
    "df_games.head() # display first five rows of resultant DataFrame"
   ]
  },
  {
   "cell_type": "code",
   "execution_count": 18,
   "metadata": {
    "execution": {
     "iopub.execute_input": "2022-07-23T17:19:31.909882Z",
     "iopub.status.busy": "2022-07-23T17:19:31.909585Z",
     "iopub.status.idle": "2022-07-23T17:19:33.595020Z",
     "shell.execute_reply": "2022-07-23T17:19:33.594037Z",
     "shell.execute_reply.started": "2022-07-23T17:19:31.909853Z"
    },
    "pycharm": {
     "name": "#%%\n"
    }
   },
   "outputs": [
    {
     "data": {
      "text/plain": "      GAME_ID SEASON_ID TEAM_ID_HOME TEAM_ABBREVIATION_HOME  \\\n0  0024600001     21946   1610610035                    HUS   \n1  0024600003     21946   1610610034                    BOM   \n2  0024600004     21946   1610610025                    CHS   \n3  0024600002     21946   1610610032                    PRO   \n4  0024600005     21946   1610610028                    DEF   \n5  0024600006     21946   1610610026                    CLR   \n6  0024600007     21946   1610610031                    PIT   \n7  0024600008     21946   1610612738                    BOS   \n8  0024600009     21946   1610610028                    DEF   \n9  0024600010     21946   1610612744                    PHW   \n\n            TEAM_NAME_HOME   GAME_DATE MATCHUP_HOME  WL_HOME  MIN_HOME  \\\n0          Toronto Huskies  1946-11-01  HUS vs. NYK      0.0         0   \n1        St. Louis Bombers  1946-11-02  BOM vs. PIT      1.0         0   \n2            Chicago Stags  1946-11-02  CHS vs. NYK      1.0         0   \n3  Providence Steamrollers  1946-11-02  PRO vs. BOS      1.0         0   \n4          Detroit Falcons  1946-11-02  DEF vs. WAS      0.0         0   \n5         Cleveland Rebels  1946-11-03  CLR vs. HUS      1.0         0   \n6       Pittsburgh Ironmen  1946-11-04  PIT vs. WAS      0.0         0   \n7           Boston Celtics  1946-11-05  BOS vs. CHS      0.0         0   \n8          Detroit Falcons  1946-11-05  DEF vs. BOM      0.0         0   \n9    Philadelphia Warriors  1946-11-07  PHW vs. PIT      1.0         0   \n\n   FGM_HOME  ...  LAST_GAME_VISITOR_TEAM_CITY1  LAST_GAME_VISITOR_TEAM_POINTS  \\\n0      25.0  ...                             0                              0   \n1      20.0  ...                             0                              0   \n2      21.0  ...                             0                              0   \n3      21.0  ...                             0                              0   \n4      10.0  ...                             0                              0   \n5      24.0  ...                             0                              0   \n6      19.0  ...                             0                              0   \n7      23.0  ...                             0                              0   \n8      18.0  ...                             0                              0   \n9      28.0  ...                             0                              0   \n\n   HOME_TEAM_WINS  HOME_TEAM_LOSSES  SERIES_LEADER  VIDEO_AVAILABLE_FLAG  \\\n0             3.0               3.0           Tied                   0.0   \n1             5.0               1.0      St. Louis                   0.0   \n2             3.0               3.0           Tied                   0.0   \n3             5.0               1.0     Providence                   0.0   \n4             1.0               5.0     Washington                   0.0   \n5             6.0               0.0      Cleveland                   0.0   \n6             1.0               5.0     Washington                   0.0   \n7             0.0               6.0        Chicago                   0.0   \n8             0.0               6.0      St. Louis                   0.0   \n9             5.0               1.0   Philadelphia                   0.0   \n\n   PT_AVAILABLE  PT_XYZ_AVAILABLE  HUSTLE_STATUS  HISTORICAL_STATUS  \n0           0.0               0.0            0.0                1.0  \n1           0.0               0.0            0.0                1.0  \n2           0.0               0.0            0.0                1.0  \n3           0.0               0.0            0.0                1.0  \n4           0.0               0.0            0.0                1.0  \n5           0.0               0.0            0.0                1.0  \n6           0.0               0.0            0.0                1.0  \n7           0.0               0.0            0.0                1.0  \n8           0.0               0.0            0.0                1.0  \n9           0.0               0.0            0.0                1.0  \n\n[10 rows x 149 columns]",
      "text/html": "<div>\n<style scoped>\n    .dataframe tbody tr th:only-of-type {\n        vertical-align: middle;\n    }\n\n    .dataframe tbody tr th {\n        vertical-align: top;\n    }\n\n    .dataframe thead th {\n        text-align: right;\n    }\n</style>\n<table border=\"1\" class=\"dataframe\">\n  <thead>\n    <tr style=\"text-align: right;\">\n      <th></th>\n      <th>GAME_ID</th>\n      <th>SEASON_ID</th>\n      <th>TEAM_ID_HOME</th>\n      <th>TEAM_ABBREVIATION_HOME</th>\n      <th>TEAM_NAME_HOME</th>\n      <th>GAME_DATE</th>\n      <th>MATCHUP_HOME</th>\n      <th>WL_HOME</th>\n      <th>MIN_HOME</th>\n      <th>FGM_HOME</th>\n      <th>...</th>\n      <th>LAST_GAME_VISITOR_TEAM_CITY1</th>\n      <th>LAST_GAME_VISITOR_TEAM_POINTS</th>\n      <th>HOME_TEAM_WINS</th>\n      <th>HOME_TEAM_LOSSES</th>\n      <th>SERIES_LEADER</th>\n      <th>VIDEO_AVAILABLE_FLAG</th>\n      <th>PT_AVAILABLE</th>\n      <th>PT_XYZ_AVAILABLE</th>\n      <th>HUSTLE_STATUS</th>\n      <th>HISTORICAL_STATUS</th>\n    </tr>\n  </thead>\n  <tbody>\n    <tr>\n      <th>0</th>\n      <td>0024600001</td>\n      <td>21946</td>\n      <td>1610610035</td>\n      <td>HUS</td>\n      <td>Toronto Huskies</td>\n      <td>1946-11-01</td>\n      <td>HUS vs. NYK</td>\n      <td>0.0</td>\n      <td>0</td>\n      <td>25.0</td>\n      <td>...</td>\n      <td>0</td>\n      <td>0</td>\n      <td>3.0</td>\n      <td>3.0</td>\n      <td>Tied</td>\n      <td>0.0</td>\n      <td>0.0</td>\n      <td>0.0</td>\n      <td>0.0</td>\n      <td>1.0</td>\n    </tr>\n    <tr>\n      <th>1</th>\n      <td>0024600003</td>\n      <td>21946</td>\n      <td>1610610034</td>\n      <td>BOM</td>\n      <td>St. Louis Bombers</td>\n      <td>1946-11-02</td>\n      <td>BOM vs. PIT</td>\n      <td>1.0</td>\n      <td>0</td>\n      <td>20.0</td>\n      <td>...</td>\n      <td>0</td>\n      <td>0</td>\n      <td>5.0</td>\n      <td>1.0</td>\n      <td>St. Louis</td>\n      <td>0.0</td>\n      <td>0.0</td>\n      <td>0.0</td>\n      <td>0.0</td>\n      <td>1.0</td>\n    </tr>\n    <tr>\n      <th>2</th>\n      <td>0024600004</td>\n      <td>21946</td>\n      <td>1610610025</td>\n      <td>CHS</td>\n      <td>Chicago Stags</td>\n      <td>1946-11-02</td>\n      <td>CHS vs. NYK</td>\n      <td>1.0</td>\n      <td>0</td>\n      <td>21.0</td>\n      <td>...</td>\n      <td>0</td>\n      <td>0</td>\n      <td>3.0</td>\n      <td>3.0</td>\n      <td>Tied</td>\n      <td>0.0</td>\n      <td>0.0</td>\n      <td>0.0</td>\n      <td>0.0</td>\n      <td>1.0</td>\n    </tr>\n    <tr>\n      <th>3</th>\n      <td>0024600002</td>\n      <td>21946</td>\n      <td>1610610032</td>\n      <td>PRO</td>\n      <td>Providence Steamrollers</td>\n      <td>1946-11-02</td>\n      <td>PRO vs. BOS</td>\n      <td>1.0</td>\n      <td>0</td>\n      <td>21.0</td>\n      <td>...</td>\n      <td>0</td>\n      <td>0</td>\n      <td>5.0</td>\n      <td>1.0</td>\n      <td>Providence</td>\n      <td>0.0</td>\n      <td>0.0</td>\n      <td>0.0</td>\n      <td>0.0</td>\n      <td>1.0</td>\n    </tr>\n    <tr>\n      <th>4</th>\n      <td>0024600005</td>\n      <td>21946</td>\n      <td>1610610028</td>\n      <td>DEF</td>\n      <td>Detroit Falcons</td>\n      <td>1946-11-02</td>\n      <td>DEF vs. WAS</td>\n      <td>0.0</td>\n      <td>0</td>\n      <td>10.0</td>\n      <td>...</td>\n      <td>0</td>\n      <td>0</td>\n      <td>1.0</td>\n      <td>5.0</td>\n      <td>Washington</td>\n      <td>0.0</td>\n      <td>0.0</td>\n      <td>0.0</td>\n      <td>0.0</td>\n      <td>1.0</td>\n    </tr>\n    <tr>\n      <th>5</th>\n      <td>0024600006</td>\n      <td>21946</td>\n      <td>1610610026</td>\n      <td>CLR</td>\n      <td>Cleveland Rebels</td>\n      <td>1946-11-03</td>\n      <td>CLR vs. HUS</td>\n      <td>1.0</td>\n      <td>0</td>\n      <td>24.0</td>\n      <td>...</td>\n      <td>0</td>\n      <td>0</td>\n      <td>6.0</td>\n      <td>0.0</td>\n      <td>Cleveland</td>\n      <td>0.0</td>\n      <td>0.0</td>\n      <td>0.0</td>\n      <td>0.0</td>\n      <td>1.0</td>\n    </tr>\n    <tr>\n      <th>6</th>\n      <td>0024600007</td>\n      <td>21946</td>\n      <td>1610610031</td>\n      <td>PIT</td>\n      <td>Pittsburgh Ironmen</td>\n      <td>1946-11-04</td>\n      <td>PIT vs. WAS</td>\n      <td>0.0</td>\n      <td>0</td>\n      <td>19.0</td>\n      <td>...</td>\n      <td>0</td>\n      <td>0</td>\n      <td>1.0</td>\n      <td>5.0</td>\n      <td>Washington</td>\n      <td>0.0</td>\n      <td>0.0</td>\n      <td>0.0</td>\n      <td>0.0</td>\n      <td>1.0</td>\n    </tr>\n    <tr>\n      <th>7</th>\n      <td>0024600008</td>\n      <td>21946</td>\n      <td>1610612738</td>\n      <td>BOS</td>\n      <td>Boston Celtics</td>\n      <td>1946-11-05</td>\n      <td>BOS vs. CHS</td>\n      <td>0.0</td>\n      <td>0</td>\n      <td>23.0</td>\n      <td>...</td>\n      <td>0</td>\n      <td>0</td>\n      <td>0.0</td>\n      <td>6.0</td>\n      <td>Chicago</td>\n      <td>0.0</td>\n      <td>0.0</td>\n      <td>0.0</td>\n      <td>0.0</td>\n      <td>1.0</td>\n    </tr>\n    <tr>\n      <th>8</th>\n      <td>0024600009</td>\n      <td>21946</td>\n      <td>1610610028</td>\n      <td>DEF</td>\n      <td>Detroit Falcons</td>\n      <td>1946-11-05</td>\n      <td>DEF vs. BOM</td>\n      <td>0.0</td>\n      <td>0</td>\n      <td>18.0</td>\n      <td>...</td>\n      <td>0</td>\n      <td>0</td>\n      <td>0.0</td>\n      <td>6.0</td>\n      <td>St. Louis</td>\n      <td>0.0</td>\n      <td>0.0</td>\n      <td>0.0</td>\n      <td>0.0</td>\n      <td>1.0</td>\n    </tr>\n    <tr>\n      <th>9</th>\n      <td>0024600010</td>\n      <td>21946</td>\n      <td>1610612744</td>\n      <td>PHW</td>\n      <td>Philadelphia Warriors</td>\n      <td>1946-11-07</td>\n      <td>PHW vs. PIT</td>\n      <td>1.0</td>\n      <td>0</td>\n      <td>28.0</td>\n      <td>...</td>\n      <td>0</td>\n      <td>0</td>\n      <td>5.0</td>\n      <td>1.0</td>\n      <td>Philadelphia</td>\n      <td>0.0</td>\n      <td>0.0</td>\n      <td>0.0</td>\n      <td>0.0</td>\n      <td>1.0</td>\n    </tr>\n  </tbody>\n</table>\n<p>10 rows × 149 columns</p>\n</div>"
     },
     "execution_count": 18,
     "metadata": {},
     "output_type": "execute_result"
    }
   ],
   "source": [
    "df_games['WL_HOME'].replace({'L': 0, 'W': 1}, inplace=True)\n",
    "df_games['WL_AWAY'].replace({'L': 0, 'W': 1}, inplace=True)\n",
    "df_games.fillna(0, inplace=True)\n",
    "df_games.head(10)"
   ]
  },
  {
   "cell_type": "code",
   "execution_count": 19,
   "metadata": {
    "execution": {
     "iopub.execute_input": "2022-07-23T17:19:33.597172Z",
     "iopub.status.busy": "2022-07-23T17:19:33.596763Z",
     "iopub.status.idle": "2022-07-23T17:19:34.059044Z",
     "shell.execute_reply": "2022-07-23T17:19:34.058193Z",
     "shell.execute_reply.started": "2022-07-23T17:19:33.597132Z"
    },
    "pycharm": {
     "name": "#%%\n"
    }
   },
   "outputs": [],
   "source": [
    "x = df_games[['TEAM_ID_HOME', 'FGM_HOME', 'FGA_HOME', 'FG_PCT_HOME', 'FG3M_HOME', 'FG3A_HOME', 'FG3_PCT_HOME', 'FTM_HOME', 'FTA_HOME', 'FT_PCT_HOME', 'OREB_HOME', 'DREB_HOME', 'REB_HOME', 'AST_HOME', 'STL_HOME', 'BLK_HOME', 'PF_HOME', 'PTS_HOME', 'TEAM_ID_AWAY', 'FGM_AWAY', 'FGA_AWAY', 'FG_PCT_AWAY', 'FG3M_AWAY', 'FG3A_AWAY', 'FG3_PCT_AWAY', 'FTM_AWAY', 'FTA_AWAY', 'FT_PCT_AWAY', 'OREB_AWAY', 'DREB_AWAY', 'REB_AWAY', 'AST_AWAY', 'STL_AWAY', 'BLK_AWAY', 'PF_AWAY', 'PTS_AWAY']]\n",
    "y = df_games[['WL_HOME']]"
   ]
  },
  {
   "cell_type": "code",
   "execution_count": 20,
   "metadata": {
    "execution": {
     "iopub.execute_input": "2022-07-23T17:19:34.060781Z",
     "iopub.status.busy": "2022-07-23T17:19:34.060390Z",
     "iopub.status.idle": "2022-07-23T17:19:34.809672Z",
     "shell.execute_reply": "2022-07-23T17:19:34.808767Z",
     "shell.execute_reply.started": "2022-07-23T17:19:34.060740Z"
    },
    "pycharm": {
     "name": "#%%\n"
    }
   },
   "outputs": [],
   "source": [
    "x_train, x_test, y_train, y_test = train_test_split(x, y)\n",
    "X_train = mm.fit_transform(x_train)\n",
    "X_test = mm.transform(x_test)"
   ]
  },
  {
   "cell_type": "code",
   "execution_count": 21,
   "metadata": {
    "execution": {
     "iopub.execute_input": "2022-07-23T17:42:48.319673Z",
     "iopub.status.busy": "2022-07-23T17:42:48.319327Z",
     "iopub.status.idle": "2022-07-23T17:42:48.699683Z",
     "shell.execute_reply": "2022-07-23T17:42:48.698632Z",
     "shell.execute_reply.started": "2022-07-23T17:42:48.319642Z"
    },
    "pycharm": {
     "name": "#%%\n"
    }
   },
   "outputs": [
    {
     "data": {
      "text/plain": "DecisionTreeRegressor()",
      "text/html": "<style>#sk-container-id-3 {color: black;background-color: white;}#sk-container-id-3 pre{padding: 0;}#sk-container-id-3 div.sk-toggleable {background-color: white;}#sk-container-id-3 label.sk-toggleable__label {cursor: pointer;display: block;width: 100%;margin-bottom: 0;padding: 0.3em;box-sizing: border-box;text-align: center;}#sk-container-id-3 label.sk-toggleable__label-arrow:before {content: \"▸\";float: left;margin-right: 0.25em;color: #696969;}#sk-container-id-3 label.sk-toggleable__label-arrow:hover:before {color: black;}#sk-container-id-3 div.sk-estimator:hover label.sk-toggleable__label-arrow:before {color: black;}#sk-container-id-3 div.sk-toggleable__content {max-height: 0;max-width: 0;overflow: hidden;text-align: left;background-color: #f0f8ff;}#sk-container-id-3 div.sk-toggleable__content pre {margin: 0.2em;color: black;border-radius: 0.25em;background-color: #f0f8ff;}#sk-container-id-3 input.sk-toggleable__control:checked~div.sk-toggleable__content {max-height: 200px;max-width: 100%;overflow: auto;}#sk-container-id-3 input.sk-toggleable__control:checked~label.sk-toggleable__label-arrow:before {content: \"▾\";}#sk-container-id-3 div.sk-estimator input.sk-toggleable__control:checked~label.sk-toggleable__label {background-color: #d4ebff;}#sk-container-id-3 div.sk-label input.sk-toggleable__control:checked~label.sk-toggleable__label {background-color: #d4ebff;}#sk-container-id-3 input.sk-hidden--visually {border: 0;clip: rect(1px 1px 1px 1px);clip: rect(1px, 1px, 1px, 1px);height: 1px;margin: -1px;overflow: hidden;padding: 0;position: absolute;width: 1px;}#sk-container-id-3 div.sk-estimator {font-family: monospace;background-color: #f0f8ff;border: 1px dotted black;border-radius: 0.25em;box-sizing: border-box;margin-bottom: 0.5em;}#sk-container-id-3 div.sk-estimator:hover {background-color: #d4ebff;}#sk-container-id-3 div.sk-parallel-item::after {content: \"\";width: 100%;border-bottom: 1px solid gray;flex-grow: 1;}#sk-container-id-3 div.sk-label:hover label.sk-toggleable__label {background-color: #d4ebff;}#sk-container-id-3 div.sk-serial::before {content: \"\";position: absolute;border-left: 1px solid gray;box-sizing: border-box;top: 0;bottom: 0;left: 50%;z-index: 0;}#sk-container-id-3 div.sk-serial {display: flex;flex-direction: column;align-items: center;background-color: white;padding-right: 0.2em;padding-left: 0.2em;position: relative;}#sk-container-id-3 div.sk-item {position: relative;z-index: 1;}#sk-container-id-3 div.sk-parallel {display: flex;align-items: stretch;justify-content: center;background-color: white;position: relative;}#sk-container-id-3 div.sk-item::before, #sk-container-id-3 div.sk-parallel-item::before {content: \"\";position: absolute;border-left: 1px solid gray;box-sizing: border-box;top: 0;bottom: 0;left: 50%;z-index: -1;}#sk-container-id-3 div.sk-parallel-item {display: flex;flex-direction: column;z-index: 1;position: relative;background-color: white;}#sk-container-id-3 div.sk-parallel-item:first-child::after {align-self: flex-end;width: 50%;}#sk-container-id-3 div.sk-parallel-item:last-child::after {align-self: flex-start;width: 50%;}#sk-container-id-3 div.sk-parallel-item:only-child::after {width: 0;}#sk-container-id-3 div.sk-dashed-wrapped {border: 1px dashed gray;margin: 0 0.4em 0.5em 0.4em;box-sizing: border-box;padding-bottom: 0.4em;background-color: white;}#sk-container-id-3 div.sk-label label {font-family: monospace;font-weight: bold;display: inline-block;line-height: 1.2em;}#sk-container-id-3 div.sk-label-container {text-align: center;}#sk-container-id-3 div.sk-container {/* jupyter's `normalize.less` sets `[hidden] { display: none; }` but bootstrap.min.css set `[hidden] { display: none !important; }` so we also need the `!important` here to be able to override the default hidden behavior on the sphinx rendered scikit-learn.org. See: https://github.com/scikit-learn/scikit-learn/issues/21755 */display: inline-block !important;position: relative;}#sk-container-id-3 div.sk-text-repr-fallback {display: none;}</style><div id=\"sk-container-id-3\" class=\"sk-top-container\"><div class=\"sk-text-repr-fallback\"><pre>DecisionTreeRegressor()</pre><b>In a Jupyter environment, please rerun this cell to show the HTML representation or trust the notebook. <br />On GitHub, the HTML representation is unable to render, please try loading this page with nbviewer.org.</b></div><div class=\"sk-container\" hidden><div class=\"sk-item\"><div class=\"sk-estimator sk-toggleable\"><input class=\"sk-toggleable__control sk-hidden--visually\" id=\"sk-estimator-id-3\" type=\"checkbox\" checked><label for=\"sk-estimator-id-3\" class=\"sk-toggleable__label sk-toggleable__label-arrow\">DecisionTreeRegressor</label><div class=\"sk-toggleable__content\"><pre>DecisionTreeRegressor()</pre></div></div></div></div></div>"
     },
     "execution_count": 21,
     "metadata": {},
     "output_type": "execute_result"
    }
   ],
   "source": [
    "dt.fit(X_train, y_train)"
   ]
  },
  {
   "cell_type": "code",
   "execution_count": 22,
   "metadata": {
    "execution": {
     "iopub.execute_input": "2022-07-23T17:42:50.910261Z",
     "iopub.status.busy": "2022-07-23T17:42:50.909777Z",
     "iopub.status.idle": "2022-07-23T17:42:50.920990Z",
     "shell.execute_reply": "2022-07-23T17:42:50.920221Z",
     "shell.execute_reply.started": "2022-07-23T17:42:50.910189Z"
    },
    "pycharm": {
     "name": "#%%\n"
    }
   },
   "outputs": [
    {
     "data": {
      "text/plain": "0.993937837738425"
     },
     "execution_count": 22,
     "metadata": {},
     "output_type": "execute_result"
    }
   ],
   "source": [
    "dt.score(X_test, y_test)"
   ]
  },
  {
   "cell_type": "code",
   "execution_count": 23,
   "metadata": {
    "execution": {
     "iopub.execute_input": "2022-07-23T17:19:35.209028Z",
     "iopub.status.busy": "2022-07-23T17:19:35.208646Z",
     "iopub.status.idle": "2022-07-23T17:19:35.219915Z",
     "shell.execute_reply": "2022-07-23T17:19:35.219044Z",
     "shell.execute_reply.started": "2022-07-23T17:19:35.208989Z"
    },
    "pycharm": {
     "name": "#%%\n"
    }
   },
   "outputs": [
    {
     "name": "stdout",
     "output_type": "stream",
     "text": [
      "[1. 1. 0. ... 1. 0. 0.]\n"
     ]
    }
   ],
   "source": [
    "y_pred = dt.predict(X_test)\n",
    "print(y_pred)"
   ]
  },
  {
   "cell_type": "code",
   "execution_count": 24,
   "metadata": {
    "execution": {
     "iopub.execute_input": "2022-07-23T17:42:01.380760Z",
     "iopub.status.busy": "2022-07-23T17:42:01.380414Z",
     "iopub.status.idle": "2022-07-23T17:42:34.038514Z",
     "shell.execute_reply": "2022-07-23T17:42:34.037441Z",
     "shell.execute_reply.started": "2022-07-23T17:42:01.380729Z"
    },
    "pycharm": {
     "name": "#%%\n"
    }
   },
   "outputs": [
    {
     "name": "stderr",
     "output_type": "stream",
     "text": [
      "C:\\Users\\nanef\\.conda\\envs\\workspace\\lib\\site-packages\\sklearn\\neural_network\\_multilayer_perceptron.py:1607: DataConversionWarning: A column-vector y was passed when a 1d array was expected. Please change the shape of y to (n_samples, ), for example using ravel().\n",
      "  y = column_or_1d(y, warn=True)\n"
     ]
    },
    {
     "data": {
      "text/plain": "MLPRegressor(hidden_layer_sizes=(100, 100, 100, 25), max_iter=1000)",
      "text/html": "<style>#sk-container-id-4 {color: black;background-color: white;}#sk-container-id-4 pre{padding: 0;}#sk-container-id-4 div.sk-toggleable {background-color: white;}#sk-container-id-4 label.sk-toggleable__label {cursor: pointer;display: block;width: 100%;margin-bottom: 0;padding: 0.3em;box-sizing: border-box;text-align: center;}#sk-container-id-4 label.sk-toggleable__label-arrow:before {content: \"▸\";float: left;margin-right: 0.25em;color: #696969;}#sk-container-id-4 label.sk-toggleable__label-arrow:hover:before {color: black;}#sk-container-id-4 div.sk-estimator:hover label.sk-toggleable__label-arrow:before {color: black;}#sk-container-id-4 div.sk-toggleable__content {max-height: 0;max-width: 0;overflow: hidden;text-align: left;background-color: #f0f8ff;}#sk-container-id-4 div.sk-toggleable__content pre {margin: 0.2em;color: black;border-radius: 0.25em;background-color: #f0f8ff;}#sk-container-id-4 input.sk-toggleable__control:checked~div.sk-toggleable__content {max-height: 200px;max-width: 100%;overflow: auto;}#sk-container-id-4 input.sk-toggleable__control:checked~label.sk-toggleable__label-arrow:before {content: \"▾\";}#sk-container-id-4 div.sk-estimator input.sk-toggleable__control:checked~label.sk-toggleable__label {background-color: #d4ebff;}#sk-container-id-4 div.sk-label input.sk-toggleable__control:checked~label.sk-toggleable__label {background-color: #d4ebff;}#sk-container-id-4 input.sk-hidden--visually {border: 0;clip: rect(1px 1px 1px 1px);clip: rect(1px, 1px, 1px, 1px);height: 1px;margin: -1px;overflow: hidden;padding: 0;position: absolute;width: 1px;}#sk-container-id-4 div.sk-estimator {font-family: monospace;background-color: #f0f8ff;border: 1px dotted black;border-radius: 0.25em;box-sizing: border-box;margin-bottom: 0.5em;}#sk-container-id-4 div.sk-estimator:hover {background-color: #d4ebff;}#sk-container-id-4 div.sk-parallel-item::after {content: \"\";width: 100%;border-bottom: 1px solid gray;flex-grow: 1;}#sk-container-id-4 div.sk-label:hover label.sk-toggleable__label {background-color: #d4ebff;}#sk-container-id-4 div.sk-serial::before {content: \"\";position: absolute;border-left: 1px solid gray;box-sizing: border-box;top: 0;bottom: 0;left: 50%;z-index: 0;}#sk-container-id-4 div.sk-serial {display: flex;flex-direction: column;align-items: center;background-color: white;padding-right: 0.2em;padding-left: 0.2em;position: relative;}#sk-container-id-4 div.sk-item {position: relative;z-index: 1;}#sk-container-id-4 div.sk-parallel {display: flex;align-items: stretch;justify-content: center;background-color: white;position: relative;}#sk-container-id-4 div.sk-item::before, #sk-container-id-4 div.sk-parallel-item::before {content: \"\";position: absolute;border-left: 1px solid gray;box-sizing: border-box;top: 0;bottom: 0;left: 50%;z-index: -1;}#sk-container-id-4 div.sk-parallel-item {display: flex;flex-direction: column;z-index: 1;position: relative;background-color: white;}#sk-container-id-4 div.sk-parallel-item:first-child::after {align-self: flex-end;width: 50%;}#sk-container-id-4 div.sk-parallel-item:last-child::after {align-self: flex-start;width: 50%;}#sk-container-id-4 div.sk-parallel-item:only-child::after {width: 0;}#sk-container-id-4 div.sk-dashed-wrapped {border: 1px dashed gray;margin: 0 0.4em 0.5em 0.4em;box-sizing: border-box;padding-bottom: 0.4em;background-color: white;}#sk-container-id-4 div.sk-label label {font-family: monospace;font-weight: bold;display: inline-block;line-height: 1.2em;}#sk-container-id-4 div.sk-label-container {text-align: center;}#sk-container-id-4 div.sk-container {/* jupyter's `normalize.less` sets `[hidden] { display: none; }` but bootstrap.min.css set `[hidden] { display: none !important; }` so we also need the `!important` here to be able to override the default hidden behavior on the sphinx rendered scikit-learn.org. See: https://github.com/scikit-learn/scikit-learn/issues/21755 */display: inline-block !important;position: relative;}#sk-container-id-4 div.sk-text-repr-fallback {display: none;}</style><div id=\"sk-container-id-4\" class=\"sk-top-container\"><div class=\"sk-text-repr-fallback\"><pre>MLPRegressor(hidden_layer_sizes=(100, 100, 100, 25), max_iter=1000)</pre><b>In a Jupyter environment, please rerun this cell to show the HTML representation or trust the notebook. <br />On GitHub, the HTML representation is unable to render, please try loading this page with nbviewer.org.</b></div><div class=\"sk-container\" hidden><div class=\"sk-item\"><div class=\"sk-estimator sk-toggleable\"><input class=\"sk-toggleable__control sk-hidden--visually\" id=\"sk-estimator-id-4\" type=\"checkbox\" checked><label for=\"sk-estimator-id-4\" class=\"sk-toggleable__label sk-toggleable__label-arrow\">MLPRegressor</label><div class=\"sk-toggleable__content\"><pre>MLPRegressor(hidden_layer_sizes=(100, 100, 100, 25), max_iter=1000)</pre></div></div></div></div></div>"
     },
     "execution_count": 24,
     "metadata": {},
     "output_type": "execute_result"
    }
   ],
   "source": [
    "mlp.fit(X_train, y_train)"
   ]
  },
  {
   "cell_type": "markdown",
   "source": [],
   "metadata": {
    "collapsed": false,
    "pycharm": {
     "name": "#%% md\n"
    }
   }
  },
  {
   "cell_type": "code",
   "execution_count": 25,
   "metadata": {
    "execution": {
     "iopub.execute_input": "2022-07-23T17:42:36.014493Z",
     "iopub.status.busy": "2022-07-23T17:42:36.014108Z",
     "iopub.status.idle": "2022-07-23T17:42:36.091086Z",
     "shell.execute_reply": "2022-07-23T17:42:36.089888Z",
     "shell.execute_reply.started": "2022-07-23T17:42:36.014463Z"
    },
    "pycharm": {
     "name": "#%%\n"
    }
   },
   "outputs": [
    {
     "data": {
      "text/plain": "0.9963297125488286"
     },
     "execution_count": 25,
     "metadata": {},
     "output_type": "execute_result"
    }
   ],
   "source": [
    "mlp.score(X_test, y_test)"
   ]
  },
  {
   "cell_type": "code",
   "execution_count": 26,
   "outputs": [],
   "source": [
    "filename = 'modelo.pk1'\n",
    "pickle.dump(mlp, open(filename, 'wb'))"
   ],
   "metadata": {
    "collapsed": false,
    "pycharm": {
     "name": "#%%\n"
    }
   }
  }
 ],
 "metadata": {
  "kernelspec": {
   "display_name": "Python 3 (ipykernel)",
   "language": "python",
   "name": "python3"
  },
  "language_info": {
   "codemirror_mode": {
    "name": "ipython",
    "version": 3
   },
   "file_extension": ".py",
   "mimetype": "text/x-python",
   "name": "python",
   "nbconvert_exporter": "python",
   "pygments_lexer": "ipython3",
   "version": "3.10.4"
  }
 },
 "nbformat": 4,
 "nbformat_minor": 4
}